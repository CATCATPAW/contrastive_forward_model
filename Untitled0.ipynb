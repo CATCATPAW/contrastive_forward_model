{
  "nbformat": 4,
  "nbformat_minor": 0,
  "metadata": {
    "colab": {
      "provenance": [],
      "authorship_tag": "ABX9TyMytI6kkST5vlRjJPAYTITr",
      "include_colab_link": true
    },
    "kernelspec": {
      "name": "python3",
      "display_name": "Python 3"
    },
    "language_info": {
      "name": "python"
    }
  },
  "cells": [
    {
      "cell_type": "markdown",
      "metadata": {
        "id": "view-in-github",
        "colab_type": "text"
      },
      "source": [
        "<a href=\"https://colab.research.google.com/github/CATCATPAW/contrastive_forward_model/blob/main/Untitled0.ipynb\" target=\"_parent\"><img src=\"https://colab.research.google.com/assets/colab-badge.svg\" alt=\"Open In Colab\"/></a>"
      ]
    },
    {
      "cell_type": "code",
      "execution_count": 2,
      "metadata": {
        "colab": {
          "base_uri": "https://localhost:8080/"
        },
        "id": "9rYmxqY3B5tj",
        "outputId": "2dca909d-20f4-4f40-d4e3-357cf760845a"
      },
      "outputs": [
        {
          "output_type": "stream",
          "name": "stdout",
          "text": [
            "Drive already mounted at /content/drive; to attempt to forcibly remount, call drive.mount(\"/content/drive\", force_remount=True).\n",
            "ln: failed to create symbolic link '/content/RCareWorld_PhyRC': File exists\n",
            "Cloning into 'RCareWorld'...\n",
            "remote: Enumerating objects: 9661, done.\u001b[K\n",
            "remote: Counting objects: 100% (266/266), done.\u001b[K\n",
            "remote: Compressing objects: 100% (200/200), done.\u001b[K\n",
            "remote: Total 9661 (delta 112), reused 115 (delta 57), pack-reused 9395 (from 2)\u001b[K\n",
            "Receiving objects: 100% (9661/9661), 761.38 MiB | 19.79 MiB/s, done.\n",
            "Resolving deltas: 100% (5750/5750), done.\n",
            "Updating files: 100% (1389/1389), done.\n",
            "Filtering content: 100% (19/19), 830.05 MiB | 41.35 MiB/s, done.\n",
            "Encountered 1 file(s) that should have been pointers, but weren't:\n",
            "\tpyrcareworld/pyrcareworld/demo/executable/Player/Player_Data/StreamingAssets/aa/StandaloneLinux64/robot_assets_all_603be05fcb8dffa1ad805fc756b51160.bundle\n",
            "/content/RCareWorld/RCareWorld\n"
          ]
        }
      ],
      "source": [
        "from google.colab import drive\n",
        "drive.mount('/content/drive')\n",
        "!ln -s /content/drive/MyDrive/RCareWorld_PhyRC /content/RCareWorld_PhyRC\n",
        "!git clone -b phy-robo-care https://github.com/empriselab/RCareWorld.git\n",
        "%cd RCareWorld\n"
      ]
    },
    {
      "cell_type": "code",
      "source": [
        "#备份到google drive\n",
        "!cp -r /content/RCareWorld_PhyRC /content/drive/MyDrive"
      ],
      "metadata": {
        "id": "8PhezB54GOxK"
      },
      "execution_count": 19,
      "outputs": []
    },
    {
      "cell_type": "code",
      "source": [
        "#if other github programs are used,git clone and cd"
      ],
      "metadata": {
        "id": "s0qKifFmCBf3"
      },
      "execution_count": 3,
      "outputs": []
    },
    {
      "cell_type": "code",
      "source": [
        "##从google drive恢复代码\n",
        "#!cp -r /content/drive/MyDrive /content/RCareWorld_PhyRC\n",
        "##重新挂载 激活环境\n",
        "#from google.colab import drive\n",
        "#drive.mount('/content/drive')\n",
        "#!ln -s /content/drive/MyDrive/RCareWorld_PhyRC /content/RCareWorld_PhyRC\n",
        "#!source /usr/local/etc/profile.d/conda.sh && conda activate rcareworld"
      ],
      "metadata": {
        "id": "zWwlkucED39G"
      },
      "execution_count": 4,
      "outputs": []
    },
    {
      "cell_type": "code",
      "source": [
        "!apt-get update\n",
        "!apt-get install -y xvfb libminizip1 libassimp-dev libopenblas-dev liblapack-dev git-lfs\n",
        "!wget https://repo.anaconda.com/miniconda/Miniconda3-latest-Linux-x86_64.sh\n",
        "!bash Miniconda3-latest-Linux-x86_64.sh -b -f -p /usr/local\n",
        "!conda create -n rcareworld python=3.10 -y\n",
        "import sys\n",
        "sys.path.append('/usr/local/envs/rcareworld/lib/python3.10/site-packages/')\n",
        "!source /usr/local/etc/profile.d/conda.sh && conda activate rcareworld"
      ],
      "metadata": {
        "colab": {
          "base_uri": "https://localhost:8080/"
        },
        "collapsed": true,
        "id": "_FXIqb0ZDLZ5",
        "outputId": "8fd8fe2b-3371-445c-a2ca-d16615712b36"
      },
      "execution_count": 5,
      "outputs": [
        {
          "output_type": "stream",
          "name": "stdout",
          "text": [
            "\r0% [Working]\r            \rGet:1 https://cloud.r-project.org/bin/linux/ubuntu jammy-cran40/ InRelease [3,632 B]\n",
            "\r0% [Connecting to archive.ubuntu.com (91.189.91.83)] [Connecting to security.ubuntu.com (91.189.91.8\r                                                                                                    \rGet:2 https://developer.download.nvidia.com/compute/cuda/repos/ubuntu2204/x86_64  InRelease [1,581 B]\n",
            "\r0% [Connecting to archive.ubuntu.com (91.189.91.83)] [Connecting to security.ubuntu.com (91.189.91.8\r0% [Connecting to archive.ubuntu.com (91.189.91.83)] [Connecting to security.ubuntu.com (91.189.91.8\r                                                                                                    \rGet:3 http://security.ubuntu.com/ubuntu jammy-security InRelease [129 kB]\n",
            "\r0% [Waiting for headers] [3 InRelease 14.2 kB/129 kB 11%] [Waiting for headers] [Connected to ppa.la\r                                                                                                    \rHit:4 http://archive.ubuntu.com/ubuntu jammy InRelease\n",
            "\r0% [3 InRelease 14.2 kB/129 kB 11%] [Waiting for headers] [Connected to ppa.launchpadcontent.net (18\r                                                                                                    \rGet:5 http://archive.ubuntu.com/ubuntu jammy-updates InRelease [128 kB]\n",
            "Get:6 https://r2u.stat.illinois.edu/ubuntu jammy InRelease [6,555 B]\n",
            "Get:7 http://archive.ubuntu.com/ubuntu jammy-backports InRelease [127 kB]\n",
            "Get:8 https://cloud.r-project.org/bin/linux/ubuntu jammy-cran40/ Packages [66.7 kB]\n",
            "Get:9 https://developer.download.nvidia.com/compute/cuda/repos/ubuntu2204/x86_64  Packages [1,309 kB]\n",
            "Hit:10 https://ppa.launchpadcontent.net/deadsnakes/ppa/ubuntu jammy InRelease\n",
            "Get:11 https://r2u.stat.illinois.edu/ubuntu jammy/main all Packages [8,665 kB]\n",
            "Get:12 https://ppa.launchpadcontent.net/graphics-drivers/ppa/ubuntu jammy InRelease [24.3 kB]\n",
            "Get:13 http://archive.ubuntu.com/ubuntu jammy-updates/main amd64 Packages [2,907 kB]\n",
            "Hit:14 https://ppa.launchpadcontent.net/ubuntugis/ppa/ubuntu jammy InRelease\n",
            "Get:15 http://archive.ubuntu.com/ubuntu jammy-updates/universe amd64 Packages [1,523 kB]\n",
            "Get:16 https://r2u.stat.illinois.edu/ubuntu jammy/main amd64 Packages [2,653 kB]\n",
            "Get:17 http://security.ubuntu.com/ubuntu jammy-security/main amd64 Packages [2,606 kB]\n",
            "Get:18 http://security.ubuntu.com/ubuntu jammy-security/universe amd64 Packages [1,230 kB]\n",
            "Get:19 https://ppa.launchpadcontent.net/graphics-drivers/ppa/ubuntu jammy/main amd64 Packages [57.8 kB]\n",
            "Fetched 21.4 MB in 4s (6,001 kB/s)\n",
            "Reading package lists... Done\n",
            "W: Skipping acquire of configured file 'main/source/Sources' as repository 'https://r2u.stat.illinois.edu/ubuntu jammy InRelease' does not seem to provide it (sources.list entry misspelt?)\n",
            "Reading package lists... Done\n",
            "Building dependency tree... Done\n",
            "Reading state information... Done\n",
            "liblapack-dev is already the newest version (3.10.0-2ubuntu1).\n",
            "libminizip1 is already the newest version (1.1-8build1).\n",
            "libminizip1 set to manually installed.\n",
            "libopenblas-dev is already the newest version (0.3.20+ds-1).\n",
            "git-lfs is already the newest version (3.0.2-1ubuntu0.3).\n",
            "The following additional packages will be installed:\n",
            "  libassimp5 libdraco-dev libdraco4 libfontenc1 libxfont2 libxkbfile1 x11-xkb-utils xfonts-base\n",
            "  xfonts-encodings xfonts-utils xserver-common\n",
            "The following NEW packages will be installed:\n",
            "  libassimp-dev libassimp5 libdraco-dev libdraco4 libfontenc1 libxfont2 libxkbfile1 x11-xkb-utils\n",
            "  xfonts-base xfonts-encodings xfonts-utils xserver-common xvfb\n",
            "0 upgraded, 13 newly installed, 0 to remove and 25 not upgraded.\n",
            "Need to get 12.0 MB of archives.\n",
            "After this operation, 30.4 MB of additional disk space will be used.\n",
            "Get:1 http://archive.ubuntu.com/ubuntu jammy/universe amd64 libdraco4 amd64 1.5.2+dfsg-2 [726 kB]\n",
            "Get:2 http://archive.ubuntu.com/ubuntu jammy/universe amd64 libassimp5 amd64 5.2.2~ds0-1 [2,265 kB]\n",
            "Get:3 http://archive.ubuntu.com/ubuntu jammy/universe amd64 libdraco-dev amd64 1.5.2+dfsg-2 [1,017 kB]\n",
            "Get:4 http://archive.ubuntu.com/ubuntu jammy/main amd64 libfontenc1 amd64 1:1.1.4-1build3 [14.7 kB]\n",
            "Get:5 http://archive.ubuntu.com/ubuntu jammy/main amd64 libxfont2 amd64 1:2.0.5-1build1 [94.5 kB]\n",
            "Get:6 http://archive.ubuntu.com/ubuntu jammy/main amd64 libxkbfile1 amd64 1:1.1.0-1build3 [71.8 kB]\n",
            "Get:7 http://archive.ubuntu.com/ubuntu jammy/main amd64 x11-xkb-utils amd64 7.7+5build4 [172 kB]\n",
            "Get:8 http://archive.ubuntu.com/ubuntu jammy/main amd64 xfonts-encodings all 1:1.0.5-0ubuntu2 [578 kB]\n",
            "Get:9 http://archive.ubuntu.com/ubuntu jammy/main amd64 xfonts-utils amd64 1:7.7+6build2 [94.6 kB]\n",
            "Get:10 http://archive.ubuntu.com/ubuntu jammy/main amd64 xfonts-base all 1:1.0.5 [5,896 kB]\n",
            "Get:11 http://archive.ubuntu.com/ubuntu jammy-updates/main amd64 xserver-common all 2:21.1.4-2ubuntu1.7~22.04.12 [28.7 kB]\n",
            "Get:12 http://archive.ubuntu.com/ubuntu jammy-updates/universe amd64 xvfb amd64 2:21.1.4-2ubuntu1.7~22.04.12 [864 kB]\n",
            "Get:13 http://archive.ubuntu.com/ubuntu jammy/universe amd64 libassimp-dev amd64 5.2.2~ds0-1 [145 kB]\n",
            "Fetched 12.0 MB in 0s (25.0 MB/s)\n",
            "Selecting previously unselected package libdraco4:amd64.\n",
            "(Reading database ... 124926 files and directories currently installed.)\n",
            "Preparing to unpack .../00-libdraco4_1.5.2+dfsg-2_amd64.deb ...\n",
            "Unpacking libdraco4:amd64 (1.5.2+dfsg-2) ...\n",
            "Selecting previously unselected package libassimp5:amd64.\n",
            "Preparing to unpack .../01-libassimp5_5.2.2~ds0-1_amd64.deb ...\n",
            "Unpacking libassimp5:amd64 (5.2.2~ds0-1) ...\n",
            "Selecting previously unselected package libdraco-dev:amd64.\n",
            "Preparing to unpack .../02-libdraco-dev_1.5.2+dfsg-2_amd64.deb ...\n",
            "Unpacking libdraco-dev:amd64 (1.5.2+dfsg-2) ...\n",
            "Selecting previously unselected package libfontenc1:amd64.\n",
            "Preparing to unpack .../03-libfontenc1_1%3a1.1.4-1build3_amd64.deb ...\n",
            "Unpacking libfontenc1:amd64 (1:1.1.4-1build3) ...\n",
            "Selecting previously unselected package libxfont2:amd64.\n",
            "Preparing to unpack .../04-libxfont2_1%3a2.0.5-1build1_amd64.deb ...\n",
            "Unpacking libxfont2:amd64 (1:2.0.5-1build1) ...\n",
            "Selecting previously unselected package libxkbfile1:amd64.\n",
            "Preparing to unpack .../05-libxkbfile1_1%3a1.1.0-1build3_amd64.deb ...\n",
            "Unpacking libxkbfile1:amd64 (1:1.1.0-1build3) ...\n",
            "Selecting previously unselected package x11-xkb-utils.\n",
            "Preparing to unpack .../06-x11-xkb-utils_7.7+5build4_amd64.deb ...\n",
            "Unpacking x11-xkb-utils (7.7+5build4) ...\n",
            "Selecting previously unselected package xfonts-encodings.\n",
            "Preparing to unpack .../07-xfonts-encodings_1%3a1.0.5-0ubuntu2_all.deb ...\n",
            "Unpacking xfonts-encodings (1:1.0.5-0ubuntu2) ...\n",
            "Selecting previously unselected package xfonts-utils.\n",
            "Preparing to unpack .../08-xfonts-utils_1%3a7.7+6build2_amd64.deb ...\n",
            "Unpacking xfonts-utils (1:7.7+6build2) ...\n",
            "Selecting previously unselected package xfonts-base.\n",
            "Preparing to unpack .../09-xfonts-base_1%3a1.0.5_all.deb ...\n",
            "Unpacking xfonts-base (1:1.0.5) ...\n",
            "Selecting previously unselected package xserver-common.\n",
            "Preparing to unpack .../10-xserver-common_2%3a21.1.4-2ubuntu1.7~22.04.12_all.deb ...\n",
            "Unpacking xserver-common (2:21.1.4-2ubuntu1.7~22.04.12) ...\n",
            "Selecting previously unselected package xvfb.\n",
            "Preparing to unpack .../11-xvfb_2%3a21.1.4-2ubuntu1.7~22.04.12_amd64.deb ...\n",
            "Unpacking xvfb (2:21.1.4-2ubuntu1.7~22.04.12) ...\n",
            "Selecting previously unselected package libassimp-dev:amd64.\n",
            "Preparing to unpack .../12-libassimp-dev_5.2.2~ds0-1_amd64.deb ...\n",
            "Unpacking libassimp-dev:amd64 (5.2.2~ds0-1) ...\n",
            "Setting up libfontenc1:amd64 (1:1.1.4-1build3) ...\n",
            "Setting up xfonts-encodings (1:1.0.5-0ubuntu2) ...\n",
            "Setting up libdraco4:amd64 (1.5.2+dfsg-2) ...\n",
            "Setting up libxkbfile1:amd64 (1:1.1.0-1build3) ...\n",
            "Setting up libxfont2:amd64 (1:2.0.5-1build1) ...\n",
            "Setting up x11-xkb-utils (7.7+5build4) ...\n",
            "Setting up libdraco-dev:amd64 (1.5.2+dfsg-2) ...\n",
            "Setting up xfonts-utils (1:7.7+6build2) ...\n",
            "Setting up xfonts-base (1:1.0.5) ...\n",
            "Setting up libassimp5:amd64 (5.2.2~ds0-1) ...\n",
            "Setting up libassimp-dev:amd64 (5.2.2~ds0-1) ...\n",
            "Setting up xserver-common (2:21.1.4-2ubuntu1.7~22.04.12) ...\n",
            "Setting up xvfb (2:21.1.4-2ubuntu1.7~22.04.12) ...\n",
            "Processing triggers for man-db (2.10.2-1) ...\n",
            "Processing triggers for fontconfig (2.13.1-4.2ubuntu5) ...\n",
            "Processing triggers for libc-bin (2.35-0ubuntu3.8) ...\n",
            "/sbin/ldconfig.real: /usr/local/lib/libtbbbind.so.3 is not a symbolic link\n",
            "\n",
            "/sbin/ldconfig.real: /usr/local/lib/libtcm_debug.so.1 is not a symbolic link\n",
            "\n",
            "/sbin/ldconfig.real: /usr/local/lib/libur_adapter_opencl.so.0 is not a symbolic link\n",
            "\n",
            "/sbin/ldconfig.real: /usr/local/lib/libumf.so.0 is not a symbolic link\n",
            "\n",
            "/sbin/ldconfig.real: /usr/local/lib/libur_loader.so.0 is not a symbolic link\n",
            "\n",
            "/sbin/ldconfig.real: /usr/local/lib/libhwloc.so.15 is not a symbolic link\n",
            "\n",
            "/sbin/ldconfig.real: /usr/local/lib/libtbbmalloc_proxy.so.2 is not a symbolic link\n",
            "\n",
            "/sbin/ldconfig.real: /usr/local/lib/libtcm.so.1 is not a symbolic link\n",
            "\n",
            "/sbin/ldconfig.real: /usr/local/lib/libtbbbind_2_5.so.3 is not a symbolic link\n",
            "\n",
            "/sbin/ldconfig.real: /usr/local/lib/libtbbbind_2_0.so.3 is not a symbolic link\n",
            "\n",
            "/sbin/ldconfig.real: /usr/local/lib/libtbb.so.12 is not a symbolic link\n",
            "\n",
            "/sbin/ldconfig.real: /usr/local/lib/libur_adapter_level_zero.so.0 is not a symbolic link\n",
            "\n",
            "/sbin/ldconfig.real: /usr/local/lib/libtbbmalloc.so.2 is not a symbolic link\n",
            "\n",
            "--2025-02-10 11:19:25--  https://repo.anaconda.com/miniconda/Miniconda3-latest-Linux-x86_64.sh\n",
            "Resolving repo.anaconda.com (repo.anaconda.com)... 104.16.191.158, 104.16.32.241, 2606:4700::6810:20f1, ...\n",
            "Connecting to repo.anaconda.com (repo.anaconda.com)|104.16.191.158|:443... connected.\n",
            "HTTP request sent, awaiting response... 200 OK\n",
            "Length: 154615620 (147M) [application/octet-stream]\n",
            "Saving to: ‘Miniconda3-latest-Linux-x86_64.sh’\n",
            "\n",
            "Miniconda3-latest-L 100%[===================>] 147.45M   163MB/s    in 0.9s    \n",
            "\n",
            "2025-02-10 11:19:26 (163 MB/s) - ‘Miniconda3-latest-Linux-x86_64.sh’ saved [154615620/154615620]\n",
            "\n",
            "PREFIX=/usr/local\n",
            "Unpacking payload ...\n",
            "\n",
            "Installing base environment...\n",
            "\n",
            "Preparing transaction: ...working... done\n",
            "Executing transaction: ...working... done\n",
            "installation finished.\n",
            "WARNING:\n",
            "    You currently have a PYTHONPATH environment variable set. This may cause\n",
            "    unexpected behavior when running the Python interpreter in Miniconda3.\n",
            "    For best results, please verify that your PYTHONPATH only points to\n",
            "    directories of packages that are compatible with the Python interpreter\n",
            "    in Miniconda3: /usr/local\n",
            "Channels:\n",
            " - defaults\n",
            "Platform: linux-64\n",
            "Collecting package metadata (repodata.json): - \b\b\\ \b\b| \b\b/ \b\b- \b\b\\ \b\b| \b\b/ \b\b- \b\b\\ \b\b| \b\b/ \b\b- \b\b\\ \b\b| \b\b/ \b\bdone\n",
            "Solving environment: \\ \b\bdone\n",
            "\n",
            "## Package Plan ##\n",
            "\n",
            "  environment location: /usr/local/envs/rcareworld\n",
            "\n",
            "  added / updated specs:\n",
            "    - python=3.10\n",
            "\n",
            "\n",
            "The following packages will be downloaded:\n",
            "\n",
            "    package                    |            build\n",
            "    ---------------------------|-----------------\n",
            "    pip-25.0                   |  py310h06a4308_0         2.3 MB\n",
            "    python-3.10.16             |       he870216_1        26.9 MB\n",
            "    setuptools-75.8.0          |  py310h06a4308_0         1.6 MB\n",
            "    wheel-0.45.1               |  py310h06a4308_0         115 KB\n",
            "    ------------------------------------------------------------\n",
            "                                           Total:        30.9 MB\n",
            "\n",
            "The following NEW packages will be INSTALLED:\n",
            "\n",
            "  _libgcc_mutex      pkgs/main/linux-64::_libgcc_mutex-0.1-main \n",
            "  _openmp_mutex      pkgs/main/linux-64::_openmp_mutex-5.1-1_gnu \n",
            "  bzip2              pkgs/main/linux-64::bzip2-1.0.8-h5eee18b_6 \n",
            "  ca-certificates    pkgs/main/linux-64::ca-certificates-2024.12.31-h06a4308_0 \n",
            "  ld_impl_linux-64   pkgs/main/linux-64::ld_impl_linux-64-2.40-h12ee557_0 \n",
            "  libffi             pkgs/main/linux-64::libffi-3.4.4-h6a678d5_1 \n",
            "  libgcc-ng          pkgs/main/linux-64::libgcc-ng-11.2.0-h1234567_1 \n",
            "  libgomp            pkgs/main/linux-64::libgomp-11.2.0-h1234567_1 \n",
            "  libstdcxx-ng       pkgs/main/linux-64::libstdcxx-ng-11.2.0-h1234567_1 \n",
            "  libuuid            pkgs/main/linux-64::libuuid-1.41.5-h5eee18b_0 \n",
            "  ncurses            pkgs/main/linux-64::ncurses-6.4-h6a678d5_0 \n",
            "  openssl            pkgs/main/linux-64::openssl-3.0.15-h5eee18b_0 \n",
            "  pip                pkgs/main/linux-64::pip-25.0-py310h06a4308_0 \n",
            "  python             pkgs/main/linux-64::python-3.10.16-he870216_1 \n",
            "  readline           pkgs/main/linux-64::readline-8.2-h5eee18b_0 \n",
            "  setuptools         pkgs/main/linux-64::setuptools-75.8.0-py310h06a4308_0 \n",
            "  sqlite             pkgs/main/linux-64::sqlite-3.45.3-h5eee18b_0 \n",
            "  tk                 pkgs/main/linux-64::tk-8.6.14-h39e8969_0 \n",
            "  tzdata             pkgs/main/noarch::tzdata-2025a-h04d1e81_0 \n",
            "  wheel              pkgs/main/linux-64::wheel-0.45.1-py310h06a4308_0 \n",
            "  xz                 pkgs/main/linux-64::xz-5.4.6-h5eee18b_1 \n",
            "  zlib               pkgs/main/linux-64::zlib-1.2.13-h5eee18b_1 \n",
            "\n",
            "\n",
            "\n",
            "Downloading and Extracting Packages:\n",
            "python-3.10.16       | 26.9 MB   | :   0% 0/1 [00:00<?, ?it/s]\n",
            "pip-25.0             | 2.3 MB    | :   0% 0/1 [00:00<?, ?it/s]\u001b[A\n",
            "\n",
            "setuptools-75.8.0    | 1.6 MB    | :   0% 0/1 [00:00<?, ?it/s]\u001b[A\u001b[A\n",
            "\n",
            "\n",
            "wheel-0.45.1         | 115 KB    | :   0% 0/1 [00:00<?, ?it/s]\u001b[A\u001b[A\u001b[A\n",
            "python-3.10.16       | 26.9 MB   | :   1% 0.006983207135765889/1 [00:00<00:15, 15.30s/it]\n",
            "\n",
            "setuptools-75.8.0    | 1.6 MB    | :   4% 0.03818925053246197/1 [00:00<00:02,  2.70s/it]\u001b[A\u001b[A\n",
            "\n",
            "\n",
            "wheel-0.45.1         | 115 KB    | :  56% 0.5582615658514563/1 [00:00<00:00,  5.34it/s]\u001b[A\u001b[A\u001b[A\n",
            "\n",
            "\n",
            "python-3.10.16       | 26.9 MB   | :  14% 0.1385002748593568/1 [00:00<00:01,  1.36s/it]  \n",
            "\n",
            "setuptools-75.8.0    | 1.6 MB    | : 100% 1.0/1 [00:00<00:00,  5.43it/s]                \u001b[A\u001b[A\n",
            "\n",
            "setuptools-75.8.0    | 1.6 MB    | : 100% 1.0/1 [00:00<00:00,  5.43it/s]\u001b[A\u001b[A\n",
            "pip-25.0             | 2.3 MB    | : 100% 1.0/1 [00:00<00:00,  4.11it/s]                \u001b[A\n",
            "python-3.10.16       | 26.9 MB   | :  27% 0.2676896068710257/1 [00:00<00:00,  1.04s/it]\n",
            "\n",
            "\n",
            "python-3.10.16       | 26.9 MB   | : 100% 1.0/1 [00:01<00:00,  1.30it/s]               \n",
            "\n",
            "setuptools-75.8.0    | 1.6 MB    | : 100% 1.0/1 [00:01<00:00,  5.43it/s]\u001b[A\u001b[A\n",
            "                                                                        \n",
            "                                                                        \u001b[A\n",
            "\n",
            "                                                                        \u001b[A\u001b[A\n",
            "\n",
            "\n",
            "                                                                        \u001b[A\u001b[A\u001b[A\n",
            "Preparing transaction: - \b\b\\ \b\b| \b\bdone\n",
            "Verifying transaction: - \b\b\\ \b\b| \b\b/ \b\b- \b\b\\ \b\b| \b\b/ \b\b- \b\b\\ \b\b| \b\b/ \b\b- \b\b\\ \b\b| \b\b/ \b\bdone\n",
            "Executing transaction: \\ \b\b| \b\b/ \b\b- \b\b\\ \b\b| \b\b/ \b\b- \b\bdone\n",
            "#\n",
            "# To activate this environment, use\n",
            "#\n",
            "#     $ conda activate rcareworld\n",
            "#\n",
            "# To deactivate an active environment, use\n",
            "#\n",
            "#     $ conda deactivate\n",
            "\n"
          ]
        }
      ]
    },
    {
      "cell_type": "code",
      "source": [
        "%cd /content/RCareWorld/pyrcareworld\n",
        "!pip install -r requirements.txt\n",
        "!pip install -e ."
      ],
      "metadata": {
        "colab": {
          "base_uri": "https://localhost:8080/"
        },
        "collapsed": true,
        "id": "y6cFxhNsDRvU",
        "outputId": "2f066f15-e5d5-4110-f9a2-ee2f043a2b2d"
      },
      "execution_count": 1,
      "outputs": [
        {
          "output_type": "stream",
          "name": "stdout",
          "text": [
            "/content/RCareWorld/pyrcareworld\n",
            "Requirement already satisfied: numpy>=1.14.1 in /usr/local/lib/python3.12/site-packages (from -r requirements.txt (line 1)) (2.2.2)\n",
            "Requirement already satisfied: opencv-contrib-python in /usr/local/lib/python3.12/site-packages (from -r requirements.txt (line 2)) (4.11.0.86)\n",
            "Requirement already satisfied: requests in /usr/local/lib/python3.12/site-packages (from -r requirements.txt (line 3)) (2.32.3)\n",
            "Requirement already satisfied: open3d in /usr/local/lib/python3.12/site-packages (from -r requirements.txt (line 4)) (0.19.0)\n",
            "Requirement already satisfied: pandas in /usr/local/lib/python3.12/site-packages (from -r requirements.txt (line 5)) (2.2.3)\n",
            "Requirement already satisfied: pytest>=7.2.2 in /usr/local/lib/python3.12/site-packages (from -r requirements.txt (line 6)) (8.3.4)\n",
            "Requirement already satisfied: pytest-repeat in /usr/local/lib/python3.12/site-packages (from -r requirements.txt (line 7)) (0.9.3)\n",
            "Requirement already satisfied: charset-normalizer<4,>=2 in /usr/local/lib/python3.12/site-packages (from requests->-r requirements.txt (line 3)) (3.3.2)\n",
            "Requirement already satisfied: idna<4,>=2.5 in /usr/local/lib/python3.12/site-packages (from requests->-r requirements.txt (line 3)) (3.7)\n",
            "Requirement already satisfied: urllib3<3,>=1.21.1 in /usr/local/lib/python3.12/site-packages (from requests->-r requirements.txt (line 3)) (2.3.0)\n",
            "Requirement already satisfied: certifi>=2017.4.17 in /usr/local/lib/python3.12/site-packages (from requests->-r requirements.txt (line 3)) (2024.12.14)\n",
            "Requirement already satisfied: dash>=2.6.0 in /usr/local/lib/python3.12/site-packages (from open3d->-r requirements.txt (line 4)) (2.18.2)\n",
            "Requirement already satisfied: werkzeug>=3.0.0 in /usr/local/lib/python3.12/site-packages (from open3d->-r requirements.txt (line 4)) (3.0.6)\n",
            "Requirement already satisfied: flask>=3.0.0 in /usr/local/lib/python3.12/site-packages (from open3d->-r requirements.txt (line 4)) (3.0.3)\n",
            "Requirement already satisfied: nbformat>=5.7.0 in /usr/local/lib/python3.12/site-packages (from open3d->-r requirements.txt (line 4)) (5.10.4)\n",
            "Requirement already satisfied: configargparse in /usr/local/lib/python3.12/site-packages (from open3d->-r requirements.txt (line 4)) (1.7)\n",
            "Requirement already satisfied: ipywidgets>=8.0.4 in /usr/local/lib/python3.12/site-packages (from open3d->-r requirements.txt (line 4)) (8.1.5)\n",
            "Requirement already satisfied: addict in /usr/local/lib/python3.12/site-packages (from open3d->-r requirements.txt (line 4)) (2.4.0)\n",
            "Requirement already satisfied: pillow>=9.3.0 in /usr/local/lib/python3.12/site-packages (from open3d->-r requirements.txt (line 4)) (11.1.0)\n",
            "Requirement already satisfied: matplotlib>=3 in /usr/local/lib/python3.12/site-packages (from open3d->-r requirements.txt (line 4)) (3.10.0)\n",
            "Requirement already satisfied: pyyaml>=5.4.1 in /usr/local/lib/python3.12/site-packages (from open3d->-r requirements.txt (line 4)) (6.0.2)\n",
            "Requirement already satisfied: scikit-learn>=0.21 in /usr/local/lib/python3.12/site-packages (from open3d->-r requirements.txt (line 4)) (1.6.1)\n",
            "Requirement already satisfied: tqdm in /usr/local/lib/python3.12/site-packages (from open3d->-r requirements.txt (line 4)) (4.66.5)\n",
            "Requirement already satisfied: pyquaternion in /usr/local/lib/python3.12/site-packages (from open3d->-r requirements.txt (line 4)) (0.9.9)\n",
            "Requirement already satisfied: python-dateutil>=2.8.2 in /usr/local/lib/python3.12/site-packages (from pandas->-r requirements.txt (line 5)) (2.9.0.post0)\n",
            "Requirement already satisfied: pytz>=2020.1 in /usr/local/lib/python3.12/site-packages (from pandas->-r requirements.txt (line 5)) (2025.1)\n",
            "Requirement already satisfied: tzdata>=2022.7 in /usr/local/lib/python3.12/site-packages (from pandas->-r requirements.txt (line 5)) (2025.1)\n",
            "Requirement already satisfied: iniconfig in /usr/local/lib/python3.12/site-packages (from pytest>=7.2.2->-r requirements.txt (line 6)) (2.0.0)\n",
            "Requirement already satisfied: packaging in /usr/local/lib/python3.12/site-packages (from pytest>=7.2.2->-r requirements.txt (line 6)) (24.2)\n",
            "Requirement already satisfied: pluggy<2,>=1.5 in /usr/local/lib/python3.12/site-packages (from pytest>=7.2.2->-r requirements.txt (line 6)) (1.5.0)\n",
            "Requirement already satisfied: plotly>=5.0.0 in /usr/local/lib/python3.12/site-packages (from dash>=2.6.0->open3d->-r requirements.txt (line 4)) (6.0.0)\n",
            "Requirement already satisfied: dash-html-components==2.0.0 in /usr/local/lib/python3.12/site-packages (from dash>=2.6.0->open3d->-r requirements.txt (line 4)) (2.0.0)\n",
            "Requirement already satisfied: dash-core-components==2.0.0 in /usr/local/lib/python3.12/site-packages (from dash>=2.6.0->open3d->-r requirements.txt (line 4)) (2.0.0)\n",
            "Requirement already satisfied: dash-table==5.0.0 in /usr/local/lib/python3.12/site-packages (from dash>=2.6.0->open3d->-r requirements.txt (line 4)) (5.0.0)\n",
            "Requirement already satisfied: importlib-metadata in /usr/local/lib/python3.12/site-packages (from dash>=2.6.0->open3d->-r requirements.txt (line 4)) (8.6.1)\n",
            "Requirement already satisfied: typing-extensions>=4.1.1 in /usr/local/lib/python3.12/site-packages (from dash>=2.6.0->open3d->-r requirements.txt (line 4)) (4.12.2)\n",
            "Requirement already satisfied: retrying in /usr/local/lib/python3.12/site-packages (from dash>=2.6.0->open3d->-r requirements.txt (line 4)) (1.3.4)\n",
            "Requirement already satisfied: nest-asyncio in /usr/local/lib/python3.12/site-packages (from dash>=2.6.0->open3d->-r requirements.txt (line 4)) (1.6.0)\n",
            "Requirement already satisfied: setuptools in /usr/local/lib/python3.12/site-packages (from dash>=2.6.0->open3d->-r requirements.txt (line 4)) (75.8.0)\n",
            "Requirement already satisfied: Jinja2>=3.1.2 in /usr/local/lib/python3.12/site-packages (from flask>=3.0.0->open3d->-r requirements.txt (line 4)) (3.1.5)\n",
            "Requirement already satisfied: itsdangerous>=2.1.2 in /usr/local/lib/python3.12/site-packages (from flask>=3.0.0->open3d->-r requirements.txt (line 4)) (2.2.0)\n",
            "Requirement already satisfied: click>=8.1.3 in /usr/local/lib/python3.12/site-packages (from flask>=3.0.0->open3d->-r requirements.txt (line 4)) (8.1.8)\n",
            "Requirement already satisfied: blinker>=1.6.2 in /usr/local/lib/python3.12/site-packages (from flask>=3.0.0->open3d->-r requirements.txt (line 4)) (1.9.0)\n",
            "Requirement already satisfied: comm>=0.1.3 in /usr/local/lib/python3.12/site-packages (from ipywidgets>=8.0.4->open3d->-r requirements.txt (line 4)) (0.2.2)\n",
            "Requirement already satisfied: ipython>=6.1.0 in /usr/local/lib/python3.12/site-packages (from ipywidgets>=8.0.4->open3d->-r requirements.txt (line 4)) (8.32.0)\n",
            "Requirement already satisfied: traitlets>=4.3.1 in /usr/local/lib/python3.12/site-packages (from ipywidgets>=8.0.4->open3d->-r requirements.txt (line 4)) (5.14.3)\n",
            "Requirement already satisfied: widgetsnbextension~=4.0.12 in /usr/local/lib/python3.12/site-packages (from ipywidgets>=8.0.4->open3d->-r requirements.txt (line 4)) (4.0.13)\n",
            "Requirement already satisfied: jupyterlab-widgets~=3.0.12 in /usr/local/lib/python3.12/site-packages (from ipywidgets>=8.0.4->open3d->-r requirements.txt (line 4)) (3.0.13)\n",
            "Requirement already satisfied: contourpy>=1.0.1 in /usr/local/lib/python3.12/site-packages (from matplotlib>=3->open3d->-r requirements.txt (line 4)) (1.3.1)\n",
            "Requirement already satisfied: cycler>=0.10 in /usr/local/lib/python3.12/site-packages (from matplotlib>=3->open3d->-r requirements.txt (line 4)) (0.12.1)\n",
            "Requirement already satisfied: fonttools>=4.22.0 in /usr/local/lib/python3.12/site-packages (from matplotlib>=3->open3d->-r requirements.txt (line 4)) (4.56.0)\n",
            "Requirement already satisfied: kiwisolver>=1.3.1 in /usr/local/lib/python3.12/site-packages (from matplotlib>=3->open3d->-r requirements.txt (line 4)) (1.4.8)\n",
            "Requirement already satisfied: pyparsing>=2.3.1 in /usr/local/lib/python3.12/site-packages (from matplotlib>=3->open3d->-r requirements.txt (line 4)) (3.2.1)\n",
            "Requirement already satisfied: fastjsonschema>=2.15 in /usr/local/lib/python3.12/site-packages (from nbformat>=5.7.0->open3d->-r requirements.txt (line 4)) (2.21.1)\n",
            "Requirement already satisfied: jsonschema>=2.6 in /usr/local/lib/python3.12/site-packages (from nbformat>=5.7.0->open3d->-r requirements.txt (line 4)) (4.23.0)\n",
            "Requirement already satisfied: jupyter-core!=5.0.*,>=4.12 in /usr/local/lib/python3.12/site-packages (from nbformat>=5.7.0->open3d->-r requirements.txt (line 4)) (5.7.2)\n",
            "Requirement already satisfied: six>=1.5 in /usr/local/lib/python3.12/site-packages (from python-dateutil>=2.8.2->pandas->-r requirements.txt (line 5)) (1.17.0)\n",
            "Requirement already satisfied: scipy>=1.6.0 in /usr/local/lib/python3.12/site-packages (from scikit-learn>=0.21->open3d->-r requirements.txt (line 4)) (1.15.1)\n",
            "Requirement already satisfied: joblib>=1.2.0 in /usr/local/lib/python3.12/site-packages (from scikit-learn>=0.21->open3d->-r requirements.txt (line 4)) (1.4.2)\n",
            "Requirement already satisfied: threadpoolctl>=3.1.0 in /usr/local/lib/python3.12/site-packages (from scikit-learn>=0.21->open3d->-r requirements.txt (line 4)) (3.5.0)\n",
            "Requirement already satisfied: MarkupSafe>=2.1.1 in /usr/local/lib/python3.12/site-packages (from werkzeug>=3.0.0->open3d->-r requirements.txt (line 4)) (3.0.2)\n",
            "Requirement already satisfied: decorator in /usr/local/lib/python3.12/site-packages (from ipython>=6.1.0->ipywidgets>=8.0.4->open3d->-r requirements.txt (line 4)) (5.1.1)\n",
            "Requirement already satisfied: jedi>=0.16 in /usr/local/lib/python3.12/site-packages (from ipython>=6.1.0->ipywidgets>=8.0.4->open3d->-r requirements.txt (line 4)) (0.19.2)\n",
            "Requirement already satisfied: matplotlib-inline in /usr/local/lib/python3.12/site-packages (from ipython>=6.1.0->ipywidgets>=8.0.4->open3d->-r requirements.txt (line 4)) (0.1.7)\n",
            "Requirement already satisfied: pexpect>4.3 in /usr/local/lib/python3.12/site-packages (from ipython>=6.1.0->ipywidgets>=8.0.4->open3d->-r requirements.txt (line 4)) (4.9.0)\n",
            "Requirement already satisfied: prompt_toolkit<3.1.0,>=3.0.41 in /usr/local/lib/python3.12/site-packages (from ipython>=6.1.0->ipywidgets>=8.0.4->open3d->-r requirements.txt (line 4)) (3.0.50)\n",
            "Requirement already satisfied: pygments>=2.4.0 in /usr/local/lib/python3.12/site-packages (from ipython>=6.1.0->ipywidgets>=8.0.4->open3d->-r requirements.txt (line 4)) (2.15.1)\n",
            "Requirement already satisfied: stack_data in /usr/local/lib/python3.12/site-packages (from ipython>=6.1.0->ipywidgets>=8.0.4->open3d->-r requirements.txt (line 4)) (0.6.3)\n",
            "Requirement already satisfied: attrs>=22.2.0 in /usr/local/lib/python3.12/site-packages (from jsonschema>=2.6->nbformat>=5.7.0->open3d->-r requirements.txt (line 4)) (25.1.0)\n",
            "Requirement already satisfied: jsonschema-specifications>=2023.03.6 in /usr/local/lib/python3.12/site-packages (from jsonschema>=2.6->nbformat>=5.7.0->open3d->-r requirements.txt (line 4)) (2024.10.1)\n",
            "Requirement already satisfied: referencing>=0.28.4 in /usr/local/lib/python3.12/site-packages (from jsonschema>=2.6->nbformat>=5.7.0->open3d->-r requirements.txt (line 4)) (0.36.2)\n",
            "Requirement already satisfied: rpds-py>=0.7.1 in /usr/local/lib/python3.12/site-packages (from jsonschema>=2.6->nbformat>=5.7.0->open3d->-r requirements.txt (line 4)) (0.22.3)\n",
            "Requirement already satisfied: platformdirs>=2.5 in /usr/local/lib/python3.12/site-packages (from jupyter-core!=5.0.*,>=4.12->nbformat>=5.7.0->open3d->-r requirements.txt (line 4)) (3.10.0)\n",
            "Requirement already satisfied: narwhals>=1.15.1 in /usr/local/lib/python3.12/site-packages (from plotly>=5.0.0->dash>=2.6.0->open3d->-r requirements.txt (line 4)) (1.25.2)\n",
            "Requirement already satisfied: zipp>=3.20 in /usr/local/lib/python3.12/site-packages (from importlib-metadata->dash>=2.6.0->open3d->-r requirements.txt (line 4)) (3.21.0)\n",
            "Requirement already satisfied: parso<0.9.0,>=0.8.4 in /usr/local/lib/python3.12/site-packages (from jedi>=0.16->ipython>=6.1.0->ipywidgets>=8.0.4->open3d->-r requirements.txt (line 4)) (0.8.4)\n",
            "Requirement already satisfied: ptyprocess>=0.5 in /usr/local/lib/python3.12/site-packages (from pexpect>4.3->ipython>=6.1.0->ipywidgets>=8.0.4->open3d->-r requirements.txt (line 4)) (0.7.0)\n",
            "Requirement already satisfied: wcwidth in /usr/local/lib/python3.12/site-packages (from prompt_toolkit<3.1.0,>=3.0.41->ipython>=6.1.0->ipywidgets>=8.0.4->open3d->-r requirements.txt (line 4)) (0.2.13)\n",
            "Requirement already satisfied: executing>=1.2.0 in /usr/local/lib/python3.12/site-packages (from stack_data->ipython>=6.1.0->ipywidgets>=8.0.4->open3d->-r requirements.txt (line 4)) (2.2.0)\n",
            "Requirement already satisfied: asttokens>=2.1.0 in /usr/local/lib/python3.12/site-packages (from stack_data->ipython>=6.1.0->ipywidgets>=8.0.4->open3d->-r requirements.txt (line 4)) (3.0.0)\n",
            "Requirement already satisfied: pure-eval in /usr/local/lib/python3.12/site-packages (from stack_data->ipython>=6.1.0->ipywidgets>=8.0.4->open3d->-r requirements.txt (line 4)) (0.2.3)\n",
            "Obtaining file:///content/RCareWorld/pyrcareworld\n",
            "  Preparing metadata (setup.py) ... \u001b[?25l\u001b[?25hdone\n",
            "Requirement already satisfied: numpy>=1.14.1 in /usr/local/lib/python3.12/site-packages (from pyrcareworld==1.5.0) (2.2.2)\n",
            "Requirement already satisfied: opencv-contrib-python in /usr/local/lib/python3.12/site-packages (from pyrcareworld==1.5.0) (4.11.0.86)\n",
            "Requirement already satisfied: requests in /usr/local/lib/python3.12/site-packages (from pyrcareworld==1.5.0) (2.32.3)\n",
            "Requirement already satisfied: charset-normalizer<4,>=2 in /usr/local/lib/python3.12/site-packages (from requests->pyrcareworld==1.5.0) (3.3.2)\n",
            "Requirement already satisfied: idna<4,>=2.5 in /usr/local/lib/python3.12/site-packages (from requests->pyrcareworld==1.5.0) (3.7)\n",
            "Requirement already satisfied: urllib3<3,>=1.21.1 in /usr/local/lib/python3.12/site-packages (from requests->pyrcareworld==1.5.0) (2.3.0)\n",
            "Requirement already satisfied: certifi>=2017.4.17 in /usr/local/lib/python3.12/site-packages (from requests->pyrcareworld==1.5.0) (2024.12.14)\n",
            "Installing collected packages: pyrcareworld\n",
            "  Attempting uninstall: pyrcareworld\n",
            "    Found existing installation: pyrcareworld 1.5.0\n",
            "    Uninstalling pyrcareworld-1.5.0:\n",
            "      Successfully uninstalled pyrcareworld-1.5.0\n",
            "\u001b[33m  DEPRECATION: Legacy editable install of pyrcareworld==1.5.0 from file:///content/RCareWorld/pyrcareworld (setup.py develop) is deprecated. pip 25.1 will enforce this behaviour change. A possible replacement is to add a pyproject.toml or enable --use-pep517, and use setuptools >= 64. If the resulting installation is not behaving as expected, try using --config-settings editable_mode=compat. Please consult the setuptools documentation for more information. Discussion can be found at https://github.com/pypa/pip/issues/11457\u001b[0m\u001b[33m\n",
            "\u001b[0m  Running setup.py develop for pyrcareworld\n",
            "Successfully installed pyrcareworld-1.5.0\n"
          ]
        }
      ]
    },
    {
      "cell_type": "code",
      "source": [
        "#将大文件如Unity可执行文件，dataset等上传google drive\n",
        "!ln -s /content/RCareWorld_PhyRC/data /content/RCareWorld/data\n",
        "#git LFS用于拉去大文件\n",
        "!git lfs install\n",
        "!git lfs pull"
      ],
      "metadata": {
        "colab": {
          "base_uri": "https://localhost:8080/"
        },
        "id": "NqRG6U-WDflh",
        "outputId": "70665be3-6a6c-4198-a8f1-e4ffeccd3487"
      },
      "execution_count": 7,
      "outputs": [
        {
          "output_type": "stream",
          "name": "stdout",
          "text": [
            "Updated git hooks.\n",
            "Git LFS initialized.\n"
          ]
        }
      ]
    },
    {
      "cell_type": "code",
      "source": [
        "!Xvfb :99 -screen 0 1024x768x24 &\n",
        "!export DISPLAY=:99"
      ],
      "metadata": {
        "id": "KyBLtmo6RlTV"
      },
      "execution_count": 8,
      "outputs": []
    },
    {
      "cell_type": "code",
      "source": [
        "!python /content/RCareWorld/template/test_bathing.py"
      ],
      "metadata": {
        "colab": {
          "base_uri": "https://localhost:8080/"
        },
        "id": "j8TsLQKEFPs3",
        "outputId": "35c50470-65a9-4462-81e4-d157b9c49154"
      },
      "execution_count": 15,
      "outputs": [
        {
          "output_type": "stream",
          "name": "stdout",
          "text": [
            "Unable to import OmplManagerAttr. OMPL is an optional function that likely will not affect your use.\n",
            "Waiting for UnityEditor play...\n",
            "Waiting for connections on port: 5004...\n",
            "Keyboard interrupt detected\n",
            "Resources cleaned up\n",
            "^C\n"
          ]
        }
      ]
    },
    {
      "cell_type": "code",
      "source": [
        "!python /content/RCareWorld/template/test_dressing.py"
      ],
      "metadata": {
        "colab": {
          "base_uri": "https://localhost:8080/"
        },
        "id": "uZ8IQhu8sbYK",
        "outputId": "5fdbff1f-ff58-4726-8b12-4edb4e215e83"
      },
      "execution_count": 11,
      "outputs": [
        {
          "output_type": "stream",
          "name": "stdout",
          "text": [
            "Unable to import OmplManagerAttr. OMPL is an optional function that likely will not affect your use.\n",
            "Waiting for connections on port: 5005...\n",
            "Connected successfully\n",
            "{782563: <pyrcareworld.attributes.cloth_attr.ClothAttr object at 0x7ada4c71bb30>, 654321: <pyrcareworld.attributes.camera_attr.CameraAttr object at 0x7ada38fa6090>, 1903731: <pyrcareworld.attributes.dressing_score_attr.DressingScoreAttr object at 0x7ada4c679130>, 3158930: <pyrcareworld.attributes.controller_attr.ControllerAttr object at 0x7ada38fa6030>, 315893: <pyrcareworld.attributes.controller_attr.ControllerAttr object at 0x7ada38fa6060>}\n",
            "{'name': 'Obi Cloth', 'position': [1.8799999952316284, 1.5870000123977661, 0.1289999932050705], 'rotation': [-0.0, 101.235107421875, -0.0], 'quaternion': [-0.0, 0.77292799949646, -0.0, 0.6344937682151794], 'local_position': [1.8799999952316284, 1.5540000200271606, 0.1289999932050705], 'local_rotation': [-0.0, 101.235107421875, -0.0], 'local_quaternion': [-0.0, 0.77292799949646, -0.0, 0.6344937682151794], 'local_to_world_matrix': array([[-0.19483542,  0.        ,  0.980836  ,  1.88      ],\n",
            "       [ 0.        ,  1.        ,  0.        ,  1.587     ],\n",
            "       [-0.980836  ,  0.        , -0.19483542,  0.129     ],\n",
            "       [ 0.        ,  0.        ,  0.        ,  1.        ]],\n",
            "      dtype=float32), 'move_done': True, 'rotate_done': True}\n"
          ]
        }
      ]
    },
    {
      "cell_type": "code",
      "source": [
        "#无GUI的脚本\n",
        "%cd /content/RCareWorld/pyrcareworld/pyrcareworld/demo/examples\n",
        "!python example_stretch3_move.py --nographics"
      ],
      "metadata": {
        "colab": {
          "base_uri": "https://localhost:8080/"
        },
        "id": "H8GhTncyK_kZ",
        "outputId": "f5bc3b3a-170d-47f9-93f4-4e58676c6e8e"
      },
      "execution_count": 13,
      "outputs": [
        {
          "output_type": "stream",
          "name": "stdout",
          "text": [
            "/content/RCareWorld/pyrcareworld/pyrcareworld/demo/examples\n",
            "\n",
            "This script demonstrates the control of a Stretch robot in the RCareWorld environment, including movement and gripper manipulation.\n",
            "\n",
            "What it Implements:\n",
            "- Initializes the environment with a Stretch robot and sets its initial properties, such as position and mobility.\n",
            "- Performs a series of actions including opening the gripper, moving the robot using inverse kinematics (IK), and rotating the robot.\n",
            "- =====***NOTE: This script does not include texture loading; the robot will appear white by default.***=====\n",
            "- =====***To load textures, you must manually include texture files and modify the script accordingly.***=====\n",
            "\n",
            "What the Functionality Covers:\n",
            "- Understanding how to control a robot's movement and gripper operations in RCareWorld.\n",
            "- Demonstrates basic robot movements, including forward, backward, and rotational commands.\n",
            "\n",
            "Required Operations:\n",
            "- Robot Control: Moves the robot and manipulates its gripper using IK commands.\n",
            "- Optional Movements: Additional movement commands (e.g., turning, moving forward/backward) can be uncommented for further control.\n",
            "\n",
            "Unable to import OmplManagerAttr. OMPL is an optional function that likely will not affect your use.\n",
            "Waiting for connections on port: 5005...\n",
            "Connected successfully\n",
            "Environment initialized.\n",
            "Stretch robot created.\n",
            "Traceback (most recent call last):\n",
            "  File \"/content/RCareWorld/pyrcareworld/pyrcareworld/demo/examples/example_stretch3_move.py\", line 49, in <module>\n",
            "    gripper = env.GetAttr(2215820)\n",
            "              ^^^^^^^^^^^^^^^^^^^^\n",
            "  File \"/content/RCareWorld/pyrcareworld/pyrcareworld/envs/base_env.py\", line 283, in GetAttr\n",
            "    assert id in self.attrs, f\"this ID: {id} does not exist\"\n",
            "           ^^^^^^^^^^^^^^^^\n",
            "AssertionError: this ID: 2215820 does not exist\n"
          ]
        }
      ]
    },
    {
      "cell_type": "code",
      "source": [
        "#保存训练结果和日志到google drive\n",
        "!cp -r /content/RCareWorld/results /content/RCareWorld_PhyRC/results"
      ],
      "metadata": {
        "id": "g64Jy1z-DsgB",
        "colab": {
          "base_uri": "https://localhost:8080/"
        },
        "outputId": "cb8a7ee7-6f74-4de4-abfc-97d83fa07c18"
      },
      "execution_count": 11,
      "outputs": [
        {
          "output_type": "stream",
          "name": "stdout",
          "text": [
            "cp: failed to access '/content/RCareWorld_PhyRC/results': Too many levels of symbolic links\n"
          ]
        }
      ]
    }
  ]
}